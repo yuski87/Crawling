{
 "cells": [
  {
   "cell_type": "code",
   "execution_count": 6,
   "metadata": {},
   "outputs": [],
   "source": [
    "import tweepy\n",
    "from textblob import TextBlob\n",
    "import csv"
   ]
  },
  {
   "cell_type": "code",
   "execution_count": 2,
   "metadata": {},
   "outputs": [],
   "source": [
    "consumer_key = 'O7H8dzerkUi1rfoc1Yf0n27GV'\n",
    "consumer_secret = 'W8E6SPzBi76SWSAh1FhbpiFNx0TW8jLLv5FU26UAtcR3hGZ8V7'\n",
    "access_token = '89192651-szUXRV8wGlgYL6E0OemwrG9GRgY0OvAI0mhMUpcq4'\n",
    "access_token_secret = '0rM14tIfe1mCz7EboOtGRxhN6ep64UMrC8P4h48TDdzU9'\n",
    "\n",
    "auth = tweepy.OAuthHandler(consumer_key,consumer_secret)\n",
    "auth.set_access_token(access_token, access_token_secret)\n",
    "api = tweepy.API(auth, wait_on_rate_limit = True)"
   ]
  },
  {
   "cell_type": "code",
   "execution_count": 7,
   "metadata": {},
   "outputs": [
    {
     "name": "stdout",
     "output_type": "stream",
     "text": [
      "2020-12-01 07:32:08 @IndiHome halo min indihome saya muncul lampu los merah min sulaksanaeja\n",
      "2020-12-01 07:31:57 @IndiHome Siapa min yang mengupayakan? Kalimatnya kok pasif gitu sih kammaliaR\n",
      "2020-12-01 07:31:19 @Leonarddnyasatu @IndiHome Tar jadi iron 1 bg , jangan FahmiZikra\n",
      "2020-12-01 07:30:53 @IndiHome thankyou ya! udah bs lagi internetnya hilmanharisw\n",
      "2020-12-01 07:30:28 @IndiHome tempat kami Indihome tidak bisa di akses ni Demusnico5\n",
      "2020-12-01 07:30:22 @IndiHome signal loss dari pagi hari sampe sekarang masih loss MochamadSyafii7\n",
      "2020-12-01 07:30:17 @IndiHome Follow back dong admin biar ga perlu open gembok lutfhnm\n",
      "2020-12-01 07:28:27 @IndiHome Pengajuan nya kmn ya? ke kantor telkom atau bisa via online? sivevee\n",
      "2020-12-01 07:27:49 @IndiHome Mau buka usaha frozen food aih dirumah, tapi lagi pandemi gini laku gak ya, takutnya ga laku malaj jadi o… https://t.co/XCjjJt0seM Bryanputra87\n",
      "2020-12-01 07:27:12 @IndiHome udah restart router berkali-kali tapi masih aja pingnya tinggi dzikrifayed\n",
      "2020-12-01 07:27:04 @IndiHome Belum bisa Kak. fadjarkim_\n",
      "2020-12-01 07:27:00 @IndiHome ini device dengan nama iTV, LAN juga dihitung? masa perlu dimatiin juga?\n",
      "lagian di halaman ini gk disebut… https://t.co/5anZ77PLCV ariesM_\n",
      "2020-12-01 07:26:59 @knurlailli @IndiHome mohon untuk restart modemnya kak kiki - admin cantix 🤣🤣🤣 alifah_\n",
      "2020-12-01 07:24:58 @IndiHome daritadi masih rto juga, tolonglah @IndiHome rievmhd\n",
      "2020-12-01 07:24:56 @Finishars @IndiHome Oke sudah hahah. Terima kasih informasinya dharmanapit\n",
      "2020-12-01 07:24:22 @IndiHome Mimin DM yah q3Mzd99om6OwyOx\n",
      "2020-12-01 07:20:10 Sy mau tanya, bagaimana caranya untuk pindah perangkat wifi dari lokasi rumah Pogung Yogyakarta ke lokasi rumah di… https://t.co/RdD9tuHder sivevee\n",
      "2020-12-01 07:17:40 @IndiHome saya dapet whatsapp dari indihome tagihan atas nama orang lain, ditelpon juga, sudah saya jelaskan itu bu… https://t.co/zkIdK8Vv37 ferdiansyahmn\n",
      "2020-12-01 07:16:07 @IndiHome cek DM min, ASAP! hilmanharisw\n",
      "2020-12-01 07:15:28 @IndiHome Terimakasih Atas Bantuannya Mbak Xanny Tolong Dipertahankan Mutu Kualitasnya Jangan Seperti Provider Lain… https://t.co/J9peyHCFmr andreesquad\n",
      "2020-12-01 07:14:52 Dear @IndiHome , mnt tlg cek ya. Internet mati https://t.co/ykA5ExlCpD lukman_ikhwan\n",
      "2020-12-01 07:13:55 halo @IndiHome mau tanya knp ya internetnya gak jalan dr semalem? lg gangguan atau apa? makasih ya snugglesmonkey\n",
      "2020-12-01 07:13:25 @IndiHome “Akan dilakukan” berarti baru mau. Coba kasih pilihan kata yg lain selain maaf dan tunggu. Kalo kami belu… https://t.co/pagvD57Qz4 topanesia\n",
      "2020-12-01 07:13:07 @IndiHome cek dm ya taesgirl_\n",
      "2020-12-01 07:11:33 @knurlailli @IndiHome XL mbak abdaulinta\n",
      "2020-12-01 07:11:08 @IndiHome kita kemusuhan ya, dari semalem loh https://t.co/8fRWViPuWw wkdlhcn\n",
      "2020-12-01 07:11:01 @IndiHome ada kontak yg bs dihubungin gak ni Min? tiba\" gak mau akses internet, pdhl lg wfh :( https://t.co/sDcJ2Jpr8p hilmanharisw\n",
      "2020-12-01 07:10:43 siang mas / kak @IndiHome  mau keluh kesah perihal internet dirumah, semenjak per tanggal 1 desember internet tdk b… https://t.co/GpJYz7aIBw AwanAwanqu\n",
      "2020-12-01 07:10:35 @IndiHome Udah bos, ditunggu yang cepet bos Akhmadhabibi_\n",
      "2020-12-01 07:08:41 Indihome sehat? Wifi mati mati terus kenapa sih @IndiHome gak ada hujan gak ada angin tuh yesitsmeeeh\n",
      "2020-12-01 07:07:24 @IndiHome Internet mati daerah pakansari dengan alasan kabel bawah tanah kena garuk escavator untuk proyek pemda. S… https://t.co/D8krxL0qMh mrezasatya\n",
      "2020-12-01 07:07:21 buat apa peraturan deposit dibuat tapi kalo putus wifi masi nombok bayar\n",
      "gimana ceritanya deposit ga balik? sedangk… https://t.co/SYf78vFXAj badsundayyy\n",
      "2020-12-01 07:07:15 @IndiHome sudah 3 hari gangguan sudah lapor tapi tetap tidak di kunjungi ini gimana ya? fernadchan\n",
      "2020-12-01 07:07:00 @IndiHome Selain maaf dan nunggu, apa gak ada yg lain? topanesia\n",
      "2020-12-01 07:05:06 Halo @IndiHome lagi banyak yg wfh, lagi ujian sekolah jadi jangan nakal dulu bisa? Kenapa pake trouble2 sih :( azziazikk\n",
      "2020-12-01 07:04:07 @IndiHome hai min. Sudah 3x24 jam setelah konfirmasi via tlp tp sampe skarang belum di survey sm petugas setempat. Follow up nya plssss.. sonytriatmadi\n",
      "2020-12-01 07:04:04 @IndiHome Gajadi udh di dm rafi prasarwin_\n",
      "2020-12-01 07:02:21 @IndiHome kenapa ya indihome di rumah ku sering tetjadi gangguan :\"( mayta_yoetami\n",
      "2020-12-01 07:01:58 Bos @IndiHome , ini internet dari pagi ngga tersambung terus bos. Akhmadhabibi_\n",
      "2020-12-01 07:01:16 @IndiHome halo min pon indihome saya uda 2hari merah merah..tolong di bantu.soalnya tetangga sya juga sama chepy48020941\n",
      "2020-12-01 07:01:16 @dharmanapit @IndiHome Twit lu di private brou gmn mo ditengok 😂 Finishars\n",
      "2020-12-01 07:00:20 @IndiHome Baik banget dr beberapa bulan lalu.\n",
      "Trus hari ini loss Internetnya. 😌 imrndwr\n",
      "2020-12-01 07:00:19 @IndiHome sudah mau mencapai waktu deadline kalian, gimana ya ini? Apa saya bisa ajukan kompensasi? yukopangestu\n",
      "2020-12-01 06:59:33 @IndiHome Sleman DIY lg ada masalah ya? alramadona\n",
      "2020-12-01 06:59:14 @IndiHome tolong cek dm saya juga ya min.. terimakasih TjangVincent\n",
      "2020-12-01 06:58:52 Asalamualaikum @IndiHome prasarwin_\n",
      "2020-12-01 06:58:48 Bisa Tolong Di Refresh @IndiHome Speednya Suka Nggak Stabil Sudah Sering Kaya Begini, Bukannya Kita Cerewet Tetapi… https://t.co/BpguhywcKm andreesquad\n",
      "2020-12-01 06:58:32 @IndiHome Nunggu berapa lama? Itu gangguan dari kemaren topanesia\n",
      "2020-12-01 06:58:29 @IndiHome Berapa lama ya kira-kira perbaikannya? kammaliaR\n",
      "2020-12-01 06:55:39 @IndiHome Belum bisa pls direfresh ulang atau setting sendiri ksh panduan aja lutfhnm\n"
     ]
    }
   ],
   "source": [
    "csvFile = open('Indihome_TesCraw1_1.csv','a', encoding='utf-8')\n",
    "csvWriter = csv.writer(csvFile)\n",
    "for tweet in tweepy.Cursor(api.search, q= \"@Indihome\",count=10, #q=Indihome\n",
    "                          lang='id',\n",
    "                          since=\"2020-11-24\").items(50):\n",
    "    print(tweet.created_at, tweet.text, tweet.user.screen_name)\n",
    "    csvWriter.writerow([tweet.created_at, tweet.text, tweet.user.screen_name])"
   ]
  },
  {
   "cell_type": "code",
   "execution_count": null,
   "metadata": {},
   "outputs": [],
   "source": []
  }
 ],
 "metadata": {
  "kernelspec": {
   "display_name": "Python 3",
   "language": "python",
   "name": "python3"
  },
  "language_info": {
   "codemirror_mode": {
    "name": "ipython",
    "version": 3
   },
   "file_extension": ".py",
   "mimetype": "text/x-python",
   "name": "python",
   "nbconvert_exporter": "python",
   "pygments_lexer": "ipython3",
   "version": "3.7.6"
  }
 },
 "nbformat": 4,
 "nbformat_minor": 4
}
